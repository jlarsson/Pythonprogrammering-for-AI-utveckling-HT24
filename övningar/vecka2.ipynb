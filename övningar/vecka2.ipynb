{
 "cells": [
  {
   "cell_type": "code",
   "execution_count": null,
   "metadata": {},
   "outputs": [],
   "source": [
    "# Övningsuppgifter Vecka 2\n",
    "Denna vecka handlar om Databearbetning, funktioner och OOP. Nedan finner du en lista med uppgifter. Vissa av dessa kommer vi gå igenom vid slutet av torsdagens lektion/handledningstillfälle. Vi uppmanar er att försöka lösa så många uppgifter som möjligt, vissa kommer kännas lättare, andra svårare. Fokusera på de uppgifter som känns tillräckligt utmanande för er nuvarande Python-färdighet, och samla på dig frågor på vägen. Chansen är stor att det du undrar över är det andra undrar eller borde undra över!\n",
    "\n",
    "Fastnat? Läs dokumentation och/eller kom på så specifika frågor du kan att ställa till oss handledare. Det blir lättare för oss att hjälpa om vi vet vad du har försökt med hittills.\n",
    "\n",
    "Lösningar till uppgifterna kommer finnas i denna mapp innan nästa vecka börjar.\n",
    "\n",
    "Fail often, fail fast, som någon sa.\n",
    "\n",
    "Genom att göra veckans uppgifter kommer du förstå:\n",
    "\n",
    "* Databearbetning\n",
    "* Funktioner\n",
    "* OOP\n",
    "  "
   ]
  },
  {
   "cell_type": "markdown",
   "metadata": {},
   "source": [
    "## Uppgift 1\n",
    "\n",
    "Skriv ett bank konto Class\n",
    "* Den ska ha attributerna ´´owner´´ och dess balans kommer initiellt vara 0.\n",
    "* Skapa metoder såsom ´´deposit(amount)´´ för att lägga till pengar till kontot samt ´´withdraw(amount)´´ för att ta ut pengar från kontot. Se också till att balansen kan ej bli negativ!\n",
    "* Skapa en metod ´´display_balance()´´ för att sedan printa kontots nuvarande balans"
   ]
  },
  {
   "cell_type": "code",
   "execution_count": 23,
   "metadata": {},
   "outputs": [
    {
     "name": "stdout",
     "output_type": "stream",
     "text": [
      "Joe Cool har saldo 80\n"
     ]
    }
   ],
   "source": [
    "from typing import Self\n",
    "\n",
    "class Konto:\n",
    "    owner: str\n",
    "    balance: float\n",
    "    def __init__(self, owner: str):\n",
    "        self.owner = owner\n",
    "        self.balance = 0\n",
    "    def deposit(self, amount: float) -> Self:\n",
    "        self.balance = self.__ensurePositive(self.balance + self.__ensurePositive(amount))\n",
    "        return self\n",
    "    def withdraw(self, amount: float) -> Self:\n",
    "        self.balance = self.__ensurePositive(self.balance - self.__ensurePositive(amount))\n",
    "        return self\n",
    "    def display_balance(self):\n",
    "        print(f\"{self.owner} har saldo {self.balance}\")\n",
    "\n",
    "    def __ensurePositive(self, amount: float) -> float:\n",
    "        if (amount < 0):\n",
    "            raise Exception(f\"{amount} är inte positivt\") \n",
    "        return amount\n",
    "    \n",
    "Konto('Joe Cool').deposit(100).withdraw(20).display_balance()"
   ]
  },
  {
   "cell_type": "markdown",
   "metadata": {},
   "source": [
    "## Uppgift 2\n",
    "\n",
    "Skriv en matte Class\n",
    "Den ska ha följande metoder\n",
    "* add(a,b): Returnerar summan\n",
    "* subtract(a,b): returnerar skillnaden\n",
    "* divide(a,b): returnerar divisionen\n",
    "* multiply(a,b): returnerar multiplikationen\n",
    "* gcd(a,b): returnerar största gemensamma delare\n",
    "* area_circle(r): returnerar arean av en cirkel\n",
    "* circumference(d): returnerar omkretsen av en cirkel"
   ]
  },
  {
   "cell_type": "code",
   "execution_count": 24,
   "metadata": {},
   "outputs": [
    {
     "name": "stdout",
     "output_type": "stream",
     "text": [
      "6\n"
     ]
    }
   ],
   "source": [
    "from math import pi\n",
    "class Matte:\n",
    "    @staticmethod\n",
    "    def add(a, b):\n",
    "        return a + b\n",
    "    @staticmethod\n",
    "    def subtract(a, b):\n",
    "        return a - b\n",
    "    @staticmethod\n",
    "    def divide(a, b):\n",
    "        return a / b\n",
    "    @staticmethod\n",
    "    def multiply(a, b):\n",
    "        return a * b\n",
    "    @staticmethod\n",
    "    def gcd(a, b):\n",
    "        return a if a == b else Matte.gcd(a-b, b) if a > b else Matte.gcd(a, b-a)\n",
    "    @staticmethod\n",
    "    def area_circle(r):\n",
    "        return r * r * pi\n",
    "    @staticmethod\n",
    "    def circumferennce(d):\n",
    "        return d * pi    \n",
    "print(Matte.gcd(18,6))"
   ]
  }
 ],
 "metadata": {
  "kernelspec": {
   "display_name": ".venv",
   "language": "python",
   "name": "python3"
  },
  "language_info": {
   "codemirror_mode": {
    "name": "ipython",
    "version": 3
   },
   "file_extension": ".py",
   "mimetype": "text/x-python",
   "name": "python",
   "nbconvert_exporter": "python",
   "pygments_lexer": "ipython3",
   "version": "3.12.6"
  }
 },
 "nbformat": 4,
 "nbformat_minor": 2
}
