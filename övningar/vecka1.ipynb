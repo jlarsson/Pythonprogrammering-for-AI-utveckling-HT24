{
 "cells": [
  {
   "cell_type": "markdown",
   "metadata": {},
   "source": [
    "## Uppgift 1\n",
    "\n",
    "Skriv ett program som emot en sträng som input och skriver ut längden på strängen.\n",
    "Exempel-input: \"thisIsAString\"\n",
    "Förväntad output: 13"
   ]
  },
  {
   "cell_type": "code",
   "execution_count": 1,
   "metadata": {},
   "outputs": [
    {
     "name": "stdout",
     "output_type": "stream",
     "text": [
      "13\n"
     ]
    }
   ],
   "source": [
    "print(len(\"thisIsAString\"))"
   ]
  },
  {
   "cell_type": "markdown",
   "metadata": {},
   "source": [
    "## Uppgift 2\n",
    "\n",
    "Skriv ett program som skriver ut frekvensen av tecken i en given sträng.\n",
    "Exempel-input: \"banana\"\n",
    "Förväntad output: {\"b\":1, \"a\":3, \"n\":2}"
   ]
  },
  {
   "cell_type": "code",
   "execution_count": 2,
   "metadata": {},
   "outputs": [
    {
     "name": "stdout",
     "output_type": "stream",
     "text": [
      "{'b': 1, 'a': 3, 'n': 2}\n"
     ]
    }
   ],
   "source": [
    "#from collections import Counter\n",
    "def char_freq(s: str):\n",
    "    # return dict(Counter(s))\n",
    "    return {char: len([c for c in s if c == char]) for char in set(s)}\n",
    "\n",
    "print(char_freq(\"banana\"))"
   ]
  },
  {
   "cell_type": "markdown",
   "metadata": {},
   "source": [
    "## Uppgift 3\n",
    "\n",
    "Skriv ett program som för en given sträng skriver ut de två första och de två sista tecknen i strängen (på valfritt format)\n",
    "Exempel-input: \"banana\"\n",
    "Förväntad output: \"ba na\""
   ]
  },
  {
   "cell_type": "code",
   "execution_count": 3,
   "metadata": {},
   "outputs": [
    {
     "name": "stdout",
     "output_type": "stream",
     "text": [
      "ba na\n"
     ]
    }
   ],
   "source": [
    "def replace_mid(s: str, keep: int, replace: str):\n",
    "    return s[:keep] + replace + s[len(s)-keep:]\n",
    "\n",
    "print(replace_mid(\"banana\", 2, \" \"))"
   ]
  },
  {
   "cell_type": "markdown",
   "metadata": {},
   "source": [
    "## Uppgift 4\n",
    "\n",
    "Skriv ett program som tar två strängar som input och skapar EN ny sträng där de två första tecken i varje sträng bytts ut.\n",
    "Exempel-input: \"abc\", \"xyz\"\n",
    "Förväntad output: \"xyc abz\""
   ]
  },
  {
   "cell_type": "code",
   "execution_count": 105,
   "metadata": {},
   "outputs": [
    {
     "name": "stdout",
     "output_type": "stream",
     "text": [
      "xyc abz\n"
     ]
    }
   ],
   "source": [
    "def weird_string_combination(a: str, b: str, prefix_length: int) -> str:\n",
    "    return f\"{b[:prefix_length]}{a[prefix_length:]} {a[:prefix_length]}{b[prefix_length:]}\"\n",
    "\n",
    "print(weird_string_combination(\"abc\", \"xyz\", 2))"
   ]
  },
  {
   "cell_type": "markdown",
   "metadata": {},
   "source": [
    "## Uppgift 5\n",
    "\n",
    "Skriv ett program som lägger till \"ing\" i slutet av en given sträng, om strängen är kortare än 3 tecken ska den lämnas ofärndrad.\n",
    "Expempel-input: \"Python\"\n",
    "Förväntad output: \"Pythoning\""
   ]
  },
  {
   "cell_type": "code",
   "execution_count": 35,
   "metadata": {},
   "outputs": [
    {
     "name": "stdout",
     "output_type": "stream",
     "text": [
      "Pythoning\n",
      "c#\n"
     ]
    }
   ],
   "source": [
    "def ingify(s: str, min_length: int = 3):\n",
    "    return s + \"ing\" if len(s) >= min_length else s\n",
    "\n",
    "print(ingify(\"Python\"))\n",
    "print(ingify(\"c#\"))"
   ]
  },
  {
   "cell_type": "markdown",
   "metadata": {},
   "source": [
    "## Uppgift 6\n",
    "\n",
    "Skriv ett program som först tar bort all whitespace (mellanslag, tab (\\t), newline(\\n)), och sedan även tar bort alla tecken på ojämna indexvärden, från given sträng.\n",
    "Exempel-input: \"a string with spaces and a newline character\\n\"\n",
    "Förväntad output: \"atigihpcsnaelncaatr\""
   ]
  },
  {
   "cell_type": "code",
   "execution_count": 45,
   "metadata": {},
   "outputs": [
    {
     "name": "stdout",
     "output_type": "stream",
     "text": [
      "atigihpcsnaelncaatr\n"
     ]
    }
   ],
   "source": [
    "def convert_string_according_to_exercise_6(s: str):\n",
    "    return \"\".join([char for index, char in enumerate([char for char in s if not char.isspace()]) if index % 2 == 0])\n",
    "    # chars = [char for char in s if not char.isspace()]\n",
    "    # evenchars = [char for index, char in enumerate(chars) if index % 2 == 0]\n",
    "    # return \"\".join(evenchars)\n",
    "\n",
    "print(convert_string_according_to_exercise_6(\"a string with spaces and a newline character\\n\"))"
   ]
  },
  {
   "cell_type": "markdown",
   "metadata": {},
   "source": [
    "## Uppgift 7\n",
    "\n",
    "Skriv ett program som tar en komma-separerad sekvens av ord och skriver ut de unika orden i alfabetisk ordning.\n",
    "Exempel-input: \"red, white, black, red, green, black\"\n",
    "Förväntad output: \"black, green, red, white\""
   ]
  },
  {
   "cell_type": "code",
   "execution_count": 4,
   "metadata": {},
   "outputs": [
    {
     "name": "stdout",
     "output_type": "stream",
     "text": [
      "black,green,red,white\n"
     ]
    }
   ],
   "source": [
    "def convert_text_to_text_with_unique_words_sorted(text: str):\n",
    "    return ','.join(sorted(set([word.strip() for word in text.split(\",\")])))\n",
    "\n",
    "print(convert_text_to_text_with_unique_words_sorted(\"red, white, black, red, green, black\"))"
   ]
  },
  {
   "cell_type": "markdown",
   "metadata": {},
   "source": [
    "## Uppgift 8\n",
    "\n",
    "Skriv en funktion som konverterar en given sträng till versaler (uppercase) om den innehåller minst 2 versaler bland de 4 första tecknen."
   ]
  },
  {
   "cell_type": "code",
   "execution_count": 109,
   "metadata": {},
   "outputs": [
    {
     "name": "stdout",
     "output_type": "stream",
     "text": [
      "EN GOSSE\n",
      "ett två tre\n"
     ]
    }
   ],
   "source": [
    "def uppercase_according_to_exercise_8(s: str, prefix_length: int = 4, min_sample_count: int = 2):\n",
    "    return s.upper() if len([char for char in s[:prefix_length] if char.isupper()]) >= min_sample_count else s\n",
    "\n",
    "print(uppercase_according_to_exercise_8(\"En Gosse\"))\n",
    "print(uppercase_according_to_exercise_8(\"ett två tre\"))\n"
   ]
  },
  {
   "cell_type": "markdown",
   "metadata": {},
   "source": [
    "## Uppgift 9\n",
    "\n",
    "Skriv en funktion som vänder (reverse) på en sträng om dess längd är en multipel av 4."
   ]
  },
  {
   "cell_type": "code",
   "execution_count": 110,
   "metadata": {},
   "outputs": [
    {
     "name": "stdout",
     "output_type": "stream",
     "text": [
      "!!desrever eb dluohs\n",
      "!ver\n",
      "ignore\n"
     ]
    }
   ],
   "source": [
    "def reverse_if_len_is_multiple_of(s: str, factor: int):\n",
    "    return s[::-1] if len(s) % factor == 0 else s\n",
    "\n",
    "\n",
    "print(reverse_if_len_is_multiple_of(\"should be reversed!!\", 4))\n",
    "print(reverse_if_len_is_multiple_of(\"rev!\", 4))\n",
    "print(reverse_if_len_is_multiple_of(\"ignore\", 4))"
   ]
  },
  {
   "cell_type": "markdown",
   "metadata": {},
   "source": [
    "## Uppgift 10\n",
    "\n",
    "Skriv en funktion som skapar en ny sträng bestående av 4 kopior av de två sista tecken i en given sträng.\n",
    "Exempel-input: \"Python\"\n",
    "Förväntad output: \"onononon\""
   ]
  },
  {
   "cell_type": "code",
   "execution_count": 59,
   "metadata": {},
   "outputs": [
    {
     "name": "stdout",
     "output_type": "stream",
     "text": [
      "onononon\n",
      "aaaa\n",
      "onononon\n"
     ]
    }
   ],
   "source": [
    "def repeat_suffix(s: str, repeat_count: int = 4, suffix_length: int = 2):\n",
    "    return \"\".join([s[-suffix_length:]]*repeat_count)\n",
    "\n",
    "print(repeat_suffix(\"Python\"))\n"
   ]
  },
  {
   "cell_type": "markdown",
   "metadata": {},
   "source": [
    "## Uppgift 11\n",
    "\n",
    "Skriv en funktion som tar emot en lista med ord och returnerar det längsta ordet samt dess längd"
   ]
  },
  {
   "cell_type": "code",
   "execution_count": 16,
   "metadata": {},
   "outputs": [
    {
     "name": "stdout",
     "output_type": "stream",
     "text": [
      "('dinosaurie', 10)\n"
     ]
    }
   ],
   "source": [
    "#from operator import itemgetter\n",
    "def longest_word(words: list[str]):\n",
    "    l = [(word, len(word)) for word in words]\n",
    "    return max(l, key = lambda t: t[1])\n",
    "    #return max(l, key = itemgetter(1))\n",
    "\n",
    "print(longest_word([\"apa\", \"björn\", \"dinosaurie\", \"elefant\", \"tiger\"]))"
   ]
  },
  {
   "cell_type": "markdown",
   "metadata": {},
   "source": [
    "## Uppgift 12\n",
    "\n",
    "Skriv ett program som genererar en enkel multiplikationsmodell för tal 1-10. Hur snyggt kan du få tabellen? Läs på om sträng-formattering i Python."
   ]
  },
  {
   "cell_type": "code",
   "execution_count": 44,
   "metadata": {},
   "outputs": [
    {
     "name": "stdout",
     "output_type": "stream",
     "text": [
      " 1 * 7 = 7\n",
      " 2 * 7 = 14\n",
      " 3 * 7 = 21\n",
      " 4 * 7 = 28\n",
      " 5 * 7 = 35\n",
      " 6 * 7 = 42\n",
      " 7 * 7 = 49\n",
      " 8 * 7 = 56\n",
      " 9 * 7 = 63\n",
      "10 * 7 = 70\n",
      "   1   1   2   3   4   5   6   7   8   9  10\n",
      "   2   2   4   6   8  10  12  14  16  18  20\n",
      "   3   3   6   9  12  15  18  21  24  27  30\n",
      "   4   4   8  12  16  20  24  28  32  36  40\n",
      "   5   5  10  15  20  25  30  35  40  45  50\n",
      "   6   6  12  18  24  30  36  42  48  54  60\n",
      "   7   7  14  21  28  35  42  49  56  63  70\n",
      "   8   8  16  24  32  40  48  56  64  72  80\n",
      "   9   9  18  27  36  45  54  63  72  81  90\n",
      "  10  10  20  30  40  50  60  70  80  90 100\n"
     ]
    }
   ],
   "source": [
    "def multiplication_table(n: int, max: int = 10):\n",
    "    width = len(str(max))\n",
    "    return \"\\n\".join([f\"{str(p).rjust(width)} * {n} = {p*n}\"\n",
    "                      for p in range(1, max+1)])\n",
    "\n",
    "print(multiplication_table(7))\n",
    "\n",
    "def multiplication_matrix(max: int):\n",
    "    width = len(str(max*max))\n",
    "\n",
    "    def fmt(n: int):\n",
    "        return str(n).rjust(width+1)\n",
    "    def row_text(row: int):\n",
    "        return \"\".join([fmt(row)] + [fmt(col*row) for col in range(1, max+1)])\n",
    "\n",
    "    return \"\\n\".join([row_text(row) for row in range(1, max+1)])\n",
    "            \n",
    "print(multiplication_matrix(10))\n"
   ]
  },
  {
   "cell_type": "markdown",
   "metadata": {},
   "source": [
    "## Uppgift 13\n",
    "\n",
    "Skriv en funktion som beräknar fakulteten av ett givet tal"
   ]
  },
  {
   "cell_type": "code",
   "execution_count": 18,
   "metadata": {},
   "outputs": [
    {
     "name": "stdout",
     "output_type": "stream",
     "text": [
      "0! = 1\n",
      "1! = 1\n",
      "2! = 2\n",
      "3! = 6\n",
      "4! = 24\n",
      "5! = 120\n"
     ]
    }
   ],
   "source": [
    "def nfak(n: int):\n",
    "    return n * nfak(n-1) if n > 1 else 1\n",
    "\n",
    "for n in range(0, 6):\n",
    "    print(f\"{n}! = {nfak(n)}\")"
   ]
  },
  {
   "cell_type": "markdown",
   "metadata": {},
   "source": [
    "## Uppgift 14\n",
    "\n",
    "Skapa ett enkelt gissningsspel där datorn väljer ett slumpmässigt tal mellan 1-100 (eller annat intervall), och låt användaren gissa tills de hittar rätt nummer.\n",
    "För varje felaktig gissning berättar datorn om det rätta svaret är högre eller lägre än spelarens gissning."
   ]
  },
  {
   "cell_type": "code",
   "execution_count": 119,
   "metadata": {},
   "outputs": [
    {
     "name": "stdout",
     "output_type": "stream",
     "text": [
      "...1 är för litet\n",
      "...1 är för litet\n",
      "...1 är för litet\n",
      "...1 är för litet\n",
      "...1 är för litet\n",
      "Alltså, det rätta svaret var 38\n"
     ]
    }
   ],
   "source": [
    "from random import randint\n",
    "\n",
    "def guessing_game(min: int, max: int, max_guesses: int):\n",
    "    answer = randint(1,100)\n",
    "    for n in range(max_guesses):\n",
    "        try:\n",
    "            guess = int(input(f\"Gissa på ett heltal i intervallet [{min}...{max}]\"))\n",
    "            if (guess > answer):\n",
    "                print(f\"...{guess} är för stort\")\n",
    "            if (guess < answer):\n",
    "                print(f\"...{guess} är för litet\")\n",
    "            if (guess == answer):\n",
    "                print(f\"{answer} är rätt!\")\n",
    "                return\n",
    "        except ValueError:\n",
    "            pass\n",
    "    print(f\"Alltså, det rätta svaret var {answer}\")\n",
    "\n",
    "guessing_game(1, 100, 5)"
   ]
  },
  {
   "cell_type": "markdown",
   "metadata": {},
   "source": [
    "## Uppgift 15\n",
    "\n",
    "Skriv ett program som kontrollerar om ett givet ord är ett palindrom (läses likadant framifrån som bakifrån)."
   ]
  },
  {
   "cell_type": "code",
   "execution_count": 116,
   "metadata": {},
   "outputs": [
    {
     "name": "stdout",
     "output_type": "stream",
     "text": [
      "naturrutan är ett palindrom\n",
      "leverpastej är inte ett palindrom\n"
     ]
    }
   ],
   "source": [
    "def is_palindrome(s: str):\n",
    "    return s == s[::-1]\n",
    "\n",
    "def report_is_palindrome(s: str):\n",
    "    print(f\"{s} är ett palindrom\" if is_palindrome(s) else f\"{s} är inte ett palindrom\")\n",
    "\n",
    "report_is_palindrome(\"naturrutan\")\n",
    "report_is_palindrome(\"leverpastej\")"
   ]
  },
  {
   "cell_type": "markdown",
   "metadata": {},
   "source": [
    "## Uppgift 16\n",
    "\n",
    "Skriv ett python program som itererar mellan 1 och 50, \n",
    "*\tom talet är delbart med 3 printar den \"fizz\"\n",
    "*\tom talet är delbart med 5 printar den \"buzz\", \n",
    "*\tom talet är delbart med både 3 och 5 så printar den \"FizzBuzz\"\n",
    "*\tannars printar den bara ut talet"
   ]
  },
  {
   "cell_type": "code",
   "execution_count": 13,
   "metadata": {},
   "outputs": [
    {
     "name": "stdout",
     "output_type": "stream",
     "text": [
      "1\n",
      "2\n",
      "fizz\n",
      "4\n",
      "buzz\n",
      "fizz\n",
      "7\n",
      "8\n",
      "fizz\n",
      "buzz\n",
      "11\n",
      "fizz\n",
      "13\n",
      "14\n",
      "FizzBuzz\n",
      "16\n",
      "17\n",
      "fizz\n",
      "19\n",
      "buzz\n"
     ]
    }
   ],
   "source": [
    "def fizz_buzz_strict(start: int = 1, stop: int = 20):\n",
    "    marks = [(15,\"FizzBuzz\"), (3, \"fizz\"), (5,\"buzz\")]\n",
    "    for n in range(start, stop+1):\n",
    "        s = [mark[1] for mark in marks if n % mark[0] == 0] or [n]\n",
    "        print(s[0])\n",
    "\n",
    "def fizz_buzz_loose(start: int = 1, stop: int = 20):\n",
    "    marks = [(3, \"fizz\"), (5,\"buzz\"), (15,\"FizzBuzz\")]\n",
    "    for n in range(start, stop+1):\n",
    "        matches = [mark[1] for mark in marks if n % mark[0] == 0]\n",
    "        for s in (matches or [n]):\n",
    "            print(s)\n",
    "\n",
    "fizz_buzz_strict()"
   ]
  }
 ],
 "metadata": {
  "kernelspec": {
   "display_name": ".venv",
   "language": "python",
   "name": "python3"
  },
  "language_info": {
   "codemirror_mode": {
    "name": "ipython",
    "version": 3
   },
   "file_extension": ".py",
   "mimetype": "text/x-python",
   "name": "python",
   "nbconvert_exporter": "python",
   "pygments_lexer": "ipython3",
   "version": "3.12.6"
  }
 },
 "nbformat": 4,
 "nbformat_minor": 2
}
